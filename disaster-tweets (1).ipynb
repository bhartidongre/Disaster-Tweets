{
 "cells": [
  {
   "cell_type": "code",
   "execution_count": 1,
   "id": "8e1d81d9",
   "metadata": {
    "_cell_guid": "b1076dfc-b9ad-4769-8c92-a6c4dae69d19",
    "_uuid": "8f2839f25d086af736a60e9eeb907d3b93b6e0e5",
    "execution": {
     "iopub.execute_input": "2025-01-23T09:27:43.005022Z",
     "iopub.status.busy": "2025-01-23T09:27:43.004654Z",
     "iopub.status.idle": "2025-01-23T09:27:43.946806Z",
     "shell.execute_reply": "2025-01-23T09:27:43.945557Z"
    },
    "papermill": {
     "duration": 0.94968,
     "end_time": "2025-01-23T09:27:43.948645",
     "exception": false,
     "start_time": "2025-01-23T09:27:42.998965",
     "status": "completed"
    },
    "tags": []
   },
   "outputs": [
    {
     "name": "stdout",
     "output_type": "stream",
     "text": [
      "/kaggle/input/nlp-getting-started/sample_submission.csv\n",
      "/kaggle/input/nlp-getting-started/train.csv\n",
      "/kaggle/input/nlp-getting-started/test.csv\n"
     ]
    }
   ],
   "source": [
    "# This Python 3 environment comes with many helpful analytics libraries installed\n",
    "# It is defined by the kaggle/python Docker image: https://github.com/kaggle/docker-python\n",
    "# For example, here's several helpful packages to load\n",
    "\n",
    "import numpy as np # linear algebra\n",
    "import pandas as pd # data processing, CSV file I/O (e.g. pd.read_csv)\n",
    "\n",
    "# Input data files are available in the read-only \"../input/\" directory\n",
    "# For example, running this (by clicking run or pressing Shift+Enter) will list all files under the input directory\n",
    "\n",
    "import os\n",
    "for dirname, _, filenames in os.walk('/kaggle/input'):\n",
    "    for filename in filenames:\n",
    "        print(os.path.join(dirname, filename))\n",
    "\n",
    "# You can write up to 20GB to the current directory (/kaggle/working/) that gets preserved as output when you create a version using \"Save & Run All\" \n",
    "# You can also write temporary files to /kaggle/temp/, but they won't be saved outside of the current session"
   ]
  },
  {
   "cell_type": "code",
   "execution_count": 2,
   "id": "946c5253",
   "metadata": {
    "execution": {
     "iopub.execute_input": "2025-01-23T09:27:43.957762Z",
     "iopub.status.busy": "2025-01-23T09:27:43.957276Z",
     "iopub.status.idle": "2025-01-23T09:27:45.504477Z",
     "shell.execute_reply": "2025-01-23T09:27:45.503397Z"
    },
    "papermill": {
     "duration": 1.553792,
     "end_time": "2025-01-23T09:27:45.506552",
     "exception": false,
     "start_time": "2025-01-23T09:27:43.952760",
     "status": "completed"
    },
    "tags": []
   },
   "outputs": [],
   "source": [
    "import numpy as np\n",
    "import pandas as pd\n",
    "from sklearn import feature_extraction, linear_model, model_selection, preprocessing"
   ]
  },
  {
   "cell_type": "code",
   "execution_count": 3,
   "id": "37f52184",
   "metadata": {
    "execution": {
     "iopub.execute_input": "2025-01-23T09:27:45.515934Z",
     "iopub.status.busy": "2025-01-23T09:27:45.515410Z",
     "iopub.status.idle": "2025-01-23T09:27:45.588524Z",
     "shell.execute_reply": "2025-01-23T09:27:45.587538Z"
    },
    "papermill": {
     "duration": 0.079745,
     "end_time": "2025-01-23T09:27:45.590440",
     "exception": false,
     "start_time": "2025-01-23T09:27:45.510695",
     "status": "completed"
    },
    "tags": []
   },
   "outputs": [],
   "source": [
    "train_df = pd.read_csv(\"/kaggle/input/nlp-getting-started/train.csv\")\n",
    "test_df = pd.read_csv(\"/kaggle/input/nlp-getting-started/test.csv\")"
   ]
  },
  {
   "cell_type": "code",
   "execution_count": 4,
   "id": "f6c1b59a",
   "metadata": {
    "execution": {
     "iopub.execute_input": "2025-01-23T09:27:45.599165Z",
     "iopub.status.busy": "2025-01-23T09:27:45.598812Z",
     "iopub.status.idle": "2025-01-23T09:27:45.615452Z",
     "shell.execute_reply": "2025-01-23T09:27:45.614342Z"
    },
    "papermill": {
     "duration": 0.02325,
     "end_time": "2025-01-23T09:27:45.617490",
     "exception": false,
     "start_time": "2025-01-23T09:27:45.594240",
     "status": "completed"
    },
    "tags": []
   },
   "outputs": [
    {
     "data": {
      "text/plain": [
       "'I love fruits'"
      ]
     },
     "execution_count": 4,
     "metadata": {},
     "output_type": "execute_result"
    }
   ],
   "source": [
    "train_df[train_df[\"target\"] == 0][\"text\"].values[1]"
   ]
  },
  {
   "cell_type": "code",
   "execution_count": 5,
   "id": "9a0708be",
   "metadata": {
    "execution": {
     "iopub.execute_input": "2025-01-23T09:27:45.626490Z",
     "iopub.status.busy": "2025-01-23T09:27:45.626097Z",
     "iopub.status.idle": "2025-01-23T09:27:45.633599Z",
     "shell.execute_reply": "2025-01-23T09:27:45.632538Z"
    },
    "papermill": {
     "duration": 0.013897,
     "end_time": "2025-01-23T09:27:45.635339",
     "exception": false,
     "start_time": "2025-01-23T09:27:45.621442",
     "status": "completed"
    },
    "tags": []
   },
   "outputs": [
    {
     "data": {
      "text/plain": [
       "'Forest fire near La Ronge Sask. Canada'"
      ]
     },
     "execution_count": 5,
     "metadata": {},
     "output_type": "execute_result"
    }
   ],
   "source": [
    "train_df[train_df[\"target\"] == 1][\"text\"].values[1]"
   ]
  },
  {
   "cell_type": "code",
   "execution_count": 6,
   "id": "f3a41849",
   "metadata": {
    "execution": {
     "iopub.execute_input": "2025-01-23T09:27:45.644693Z",
     "iopub.status.busy": "2025-01-23T09:27:45.644326Z",
     "iopub.status.idle": "2025-01-23T09:27:45.658749Z",
     "shell.execute_reply": "2025-01-23T09:27:45.657609Z"
    },
    "papermill": {
     "duration": 0.020972,
     "end_time": "2025-01-23T09:27:45.660448",
     "exception": false,
     "start_time": "2025-01-23T09:27:45.639476",
     "status": "completed"
    },
    "tags": []
   },
   "outputs": [],
   "source": [
    "count_vectorizer = feature_extraction.text.CountVectorizer()\n",
    "example_train_vectors = count_vectorizer.fit_transform(train_df[\"text\"][0:5])"
   ]
  },
  {
   "cell_type": "code",
   "execution_count": 7,
   "id": "0dfa2dec",
   "metadata": {
    "execution": {
     "iopub.execute_input": "2025-01-23T09:27:45.669716Z",
     "iopub.status.busy": "2025-01-23T09:27:45.669388Z",
     "iopub.status.idle": "2025-01-23T09:27:45.675854Z",
     "shell.execute_reply": "2025-01-23T09:27:45.674613Z"
    },
    "papermill": {
     "duration": 0.013014,
     "end_time": "2025-01-23T09:27:45.677624",
     "exception": false,
     "start_time": "2025-01-23T09:27:45.664610",
     "status": "completed"
    },
    "tags": []
   },
   "outputs": [
    {
     "name": "stdout",
     "output_type": "stream",
     "text": [
      "(1, 54)\n",
      "[[0 0 0 1 1 1 0 0 0 0 0 0 1 1 0 0 0 0 1 0 0 0 0 0 0 1 0 0 0 1 0 0 0 0 1 0\n",
      "  0 0 0 1 0 0 0 0 0 0 0 0 0 1 1 0 1 0]]\n"
     ]
    }
   ],
   "source": [
    "print(example_train_vectors[0].todense().shape)\n",
    "print(example_train_vectors[0].todense())"
   ]
  },
  {
   "cell_type": "code",
   "execution_count": 8,
   "id": "b46281f8",
   "metadata": {
    "execution": {
     "iopub.execute_input": "2025-01-23T09:27:45.687076Z",
     "iopub.status.busy": "2025-01-23T09:27:45.686720Z",
     "iopub.status.idle": "2025-01-23T09:27:45.912939Z",
     "shell.execute_reply": "2025-01-23T09:27:45.912018Z"
    },
    "papermill": {
     "duration": 0.232972,
     "end_time": "2025-01-23T09:27:45.914804",
     "exception": false,
     "start_time": "2025-01-23T09:27:45.681832",
     "status": "completed"
    },
    "tags": []
   },
   "outputs": [],
   "source": [
    "train_vectors = count_vectorizer.fit_transform(train_df[\"text\"])\n",
    "test_vectors = count_vectorizer.transform(test_df[\"text\"])"
   ]
  },
  {
   "cell_type": "code",
   "execution_count": 9,
   "id": "f447bf1c",
   "metadata": {
    "execution": {
     "iopub.execute_input": "2025-01-23T09:27:45.924284Z",
     "iopub.status.busy": "2025-01-23T09:27:45.923902Z",
     "iopub.status.idle": "2025-01-23T09:27:45.928075Z",
     "shell.execute_reply": "2025-01-23T09:27:45.927060Z"
    },
    "papermill": {
     "duration": 0.010814,
     "end_time": "2025-01-23T09:27:45.929778",
     "exception": false,
     "start_time": "2025-01-23T09:27:45.918964",
     "status": "completed"
    },
    "tags": []
   },
   "outputs": [],
   "source": [
    "clf = linear_model.RidgeClassifier()"
   ]
  },
  {
   "cell_type": "code",
   "execution_count": 10,
   "id": "ce743642",
   "metadata": {
    "execution": {
     "iopub.execute_input": "2025-01-23T09:27:45.939131Z",
     "iopub.status.busy": "2025-01-23T09:27:45.938790Z",
     "iopub.status.idle": "2025-01-23T09:27:46.234171Z",
     "shell.execute_reply": "2025-01-23T09:27:46.233133Z"
    },
    "papermill": {
     "duration": 0.302074,
     "end_time": "2025-01-23T09:27:46.236003",
     "exception": false,
     "start_time": "2025-01-23T09:27:45.933929",
     "status": "completed"
    },
    "tags": []
   },
   "outputs": [
    {
     "data": {
      "text/plain": [
       "array([0.59453669, 0.5642787 , 0.64082434])"
      ]
     },
     "execution_count": 10,
     "metadata": {},
     "output_type": "execute_result"
    }
   ],
   "source": [
    "scores = model_selection.cross_val_score(clf,train_vectors,train_df[\"target\"],cv=3,scoring=\"f1\")\n",
    "scores"
   ]
  },
  {
   "cell_type": "code",
   "execution_count": 11,
   "id": "35aa594d",
   "metadata": {
    "execution": {
     "iopub.execute_input": "2025-01-23T09:27:46.245751Z",
     "iopub.status.busy": "2025-01-23T09:27:46.245409Z",
     "iopub.status.idle": "2025-01-23T09:27:46.379498Z",
     "shell.execute_reply": "2025-01-23T09:27:46.378359Z"
    },
    "papermill": {
     "duration": 0.140963,
     "end_time": "2025-01-23T09:27:46.381377",
     "exception": false,
     "start_time": "2025-01-23T09:27:46.240414",
     "status": "completed"
    },
    "tags": []
   },
   "outputs": [
    {
     "data": {
      "text/html": [
       "<style>#sk-container-id-1 {color: black;background-color: white;}#sk-container-id-1 pre{padding: 0;}#sk-container-id-1 div.sk-toggleable {background-color: white;}#sk-container-id-1 label.sk-toggleable__label {cursor: pointer;display: block;width: 100%;margin-bottom: 0;padding: 0.3em;box-sizing: border-box;text-align: center;}#sk-container-id-1 label.sk-toggleable__label-arrow:before {content: \"▸\";float: left;margin-right: 0.25em;color: #696969;}#sk-container-id-1 label.sk-toggleable__label-arrow:hover:before {color: black;}#sk-container-id-1 div.sk-estimator:hover label.sk-toggleable__label-arrow:before {color: black;}#sk-container-id-1 div.sk-toggleable__content {max-height: 0;max-width: 0;overflow: hidden;text-align: left;background-color: #f0f8ff;}#sk-container-id-1 div.sk-toggleable__content pre {margin: 0.2em;color: black;border-radius: 0.25em;background-color: #f0f8ff;}#sk-container-id-1 input.sk-toggleable__control:checked~div.sk-toggleable__content {max-height: 200px;max-width: 100%;overflow: auto;}#sk-container-id-1 input.sk-toggleable__control:checked~label.sk-toggleable__label-arrow:before {content: \"▾\";}#sk-container-id-1 div.sk-estimator input.sk-toggleable__control:checked~label.sk-toggleable__label {background-color: #d4ebff;}#sk-container-id-1 div.sk-label input.sk-toggleable__control:checked~label.sk-toggleable__label {background-color: #d4ebff;}#sk-container-id-1 input.sk-hidden--visually {border: 0;clip: rect(1px 1px 1px 1px);clip: rect(1px, 1px, 1px, 1px);height: 1px;margin: -1px;overflow: hidden;padding: 0;position: absolute;width: 1px;}#sk-container-id-1 div.sk-estimator {font-family: monospace;background-color: #f0f8ff;border: 1px dotted black;border-radius: 0.25em;box-sizing: border-box;margin-bottom: 0.5em;}#sk-container-id-1 div.sk-estimator:hover {background-color: #d4ebff;}#sk-container-id-1 div.sk-parallel-item::after {content: \"\";width: 100%;border-bottom: 1px solid gray;flex-grow: 1;}#sk-container-id-1 div.sk-label:hover label.sk-toggleable__label {background-color: #d4ebff;}#sk-container-id-1 div.sk-serial::before {content: \"\";position: absolute;border-left: 1px solid gray;box-sizing: border-box;top: 0;bottom: 0;left: 50%;z-index: 0;}#sk-container-id-1 div.sk-serial {display: flex;flex-direction: column;align-items: center;background-color: white;padding-right: 0.2em;padding-left: 0.2em;position: relative;}#sk-container-id-1 div.sk-item {position: relative;z-index: 1;}#sk-container-id-1 div.sk-parallel {display: flex;align-items: stretch;justify-content: center;background-color: white;position: relative;}#sk-container-id-1 div.sk-item::before, #sk-container-id-1 div.sk-parallel-item::before {content: \"\";position: absolute;border-left: 1px solid gray;box-sizing: border-box;top: 0;bottom: 0;left: 50%;z-index: -1;}#sk-container-id-1 div.sk-parallel-item {display: flex;flex-direction: column;z-index: 1;position: relative;background-color: white;}#sk-container-id-1 div.sk-parallel-item:first-child::after {align-self: flex-end;width: 50%;}#sk-container-id-1 div.sk-parallel-item:last-child::after {align-self: flex-start;width: 50%;}#sk-container-id-1 div.sk-parallel-item:only-child::after {width: 0;}#sk-container-id-1 div.sk-dashed-wrapped {border: 1px dashed gray;margin: 0 0.4em 0.5em 0.4em;box-sizing: border-box;padding-bottom: 0.4em;background-color: white;}#sk-container-id-1 div.sk-label label {font-family: monospace;font-weight: bold;display: inline-block;line-height: 1.2em;}#sk-container-id-1 div.sk-label-container {text-align: center;}#sk-container-id-1 div.sk-container {/* jupyter's `normalize.less` sets `[hidden] { display: none; }` but bootstrap.min.css set `[hidden] { display: none !important; }` so we also need the `!important` here to be able to override the default hidden behavior on the sphinx rendered scikit-learn.org. See: https://github.com/scikit-learn/scikit-learn/issues/21755 */display: inline-block !important;position: relative;}#sk-container-id-1 div.sk-text-repr-fallback {display: none;}</style><div id=\"sk-container-id-1\" class=\"sk-top-container\"><div class=\"sk-text-repr-fallback\"><pre>RidgeClassifier()</pre><b>In a Jupyter environment, please rerun this cell to show the HTML representation or trust the notebook. <br />On GitHub, the HTML representation is unable to render, please try loading this page with nbviewer.org.</b></div><div class=\"sk-container\" hidden><div class=\"sk-item\"><div class=\"sk-estimator sk-toggleable\"><input class=\"sk-toggleable__control sk-hidden--visually\" id=\"sk-estimator-id-1\" type=\"checkbox\" checked><label for=\"sk-estimator-id-1\" class=\"sk-toggleable__label sk-toggleable__label-arrow\">RidgeClassifier</label><div class=\"sk-toggleable__content\"><pre>RidgeClassifier()</pre></div></div></div></div></div>"
      ],
      "text/plain": [
       "RidgeClassifier()"
      ]
     },
     "execution_count": 11,
     "metadata": {},
     "output_type": "execute_result"
    }
   ],
   "source": [
    "clf.fit(train_vectors,train_df[\"target\"])"
   ]
  },
  {
   "cell_type": "code",
   "execution_count": 12,
   "id": "2f48aa5d",
   "metadata": {
    "execution": {
     "iopub.execute_input": "2025-01-23T09:27:46.391241Z",
     "iopub.status.busy": "2025-01-23T09:27:46.390893Z",
     "iopub.status.idle": "2025-01-23T09:27:46.402121Z",
     "shell.execute_reply": "2025-01-23T09:27:46.400861Z"
    },
    "papermill": {
     "duration": 0.018223,
     "end_time": "2025-01-23T09:27:46.403895",
     "exception": false,
     "start_time": "2025-01-23T09:27:46.385672",
     "status": "completed"
    },
    "tags": []
   },
   "outputs": [],
   "source": [
    "sample_submission = pd.read_csv(\"/kaggle/input/nlp-getting-started/sample_submission.csv\")"
   ]
  },
  {
   "cell_type": "code",
   "execution_count": 13,
   "id": "e89589c6",
   "metadata": {
    "execution": {
     "iopub.execute_input": "2025-01-23T09:27:46.414129Z",
     "iopub.status.busy": "2025-01-23T09:27:46.413789Z",
     "iopub.status.idle": "2025-01-23T09:27:46.419335Z",
     "shell.execute_reply": "2025-01-23T09:27:46.418268Z"
    },
    "papermill": {
     "duration": 0.012546,
     "end_time": "2025-01-23T09:27:46.421006",
     "exception": false,
     "start_time": "2025-01-23T09:27:46.408460",
     "status": "completed"
    },
    "tags": []
   },
   "outputs": [],
   "source": [
    "sample_submission[\"target\"] = clf.predict(test_vectors)"
   ]
  },
  {
   "cell_type": "code",
   "execution_count": 14,
   "id": "8b938fb6",
   "metadata": {
    "execution": {
     "iopub.execute_input": "2025-01-23T09:27:46.431083Z",
     "iopub.status.busy": "2025-01-23T09:27:46.430737Z",
     "iopub.status.idle": "2025-01-23T09:27:46.445604Z",
     "shell.execute_reply": "2025-01-23T09:27:46.444655Z"
    },
    "papermill": {
     "duration": 0.021677,
     "end_time": "2025-01-23T09:27:46.447181",
     "exception": false,
     "start_time": "2025-01-23T09:27:46.425504",
     "status": "completed"
    },
    "tags": []
   },
   "outputs": [
    {
     "data": {
      "text/html": [
       "<div>\n",
       "<style scoped>\n",
       "    .dataframe tbody tr th:only-of-type {\n",
       "        vertical-align: middle;\n",
       "    }\n",
       "\n",
       "    .dataframe tbody tr th {\n",
       "        vertical-align: top;\n",
       "    }\n",
       "\n",
       "    .dataframe thead th {\n",
       "        text-align: right;\n",
       "    }\n",
       "</style>\n",
       "<table border=\"1\" class=\"dataframe\">\n",
       "  <thead>\n",
       "    <tr style=\"text-align: right;\">\n",
       "      <th></th>\n",
       "      <th>id</th>\n",
       "      <th>target</th>\n",
       "    </tr>\n",
       "  </thead>\n",
       "  <tbody>\n",
       "    <tr>\n",
       "      <th>0</th>\n",
       "      <td>0</td>\n",
       "      <td>0</td>\n",
       "    </tr>\n",
       "    <tr>\n",
       "      <th>1</th>\n",
       "      <td>2</td>\n",
       "      <td>1</td>\n",
       "    </tr>\n",
       "    <tr>\n",
       "      <th>2</th>\n",
       "      <td>3</td>\n",
       "      <td>1</td>\n",
       "    </tr>\n",
       "    <tr>\n",
       "      <th>3</th>\n",
       "      <td>9</td>\n",
       "      <td>0</td>\n",
       "    </tr>\n",
       "    <tr>\n",
       "      <th>4</th>\n",
       "      <td>11</td>\n",
       "      <td>1</td>\n",
       "    </tr>\n",
       "  </tbody>\n",
       "</table>\n",
       "</div>"
      ],
      "text/plain": [
       "   id  target\n",
       "0   0       0\n",
       "1   2       1\n",
       "2   3       1\n",
       "3   9       0\n",
       "4  11       1"
      ]
     },
     "execution_count": 14,
     "metadata": {},
     "output_type": "execute_result"
    }
   ],
   "source": [
    "sample_submission.head()"
   ]
  },
  {
   "cell_type": "code",
   "execution_count": 15,
   "id": "00b0ec04",
   "metadata": {
    "execution": {
     "iopub.execute_input": "2025-01-23T09:27:46.457726Z",
     "iopub.status.busy": "2025-01-23T09:27:46.457390Z",
     "iopub.status.idle": "2025-01-23T09:27:46.469212Z",
     "shell.execute_reply": "2025-01-23T09:27:46.468227Z"
    },
    "papermill": {
     "duration": 0.019404,
     "end_time": "2025-01-23T09:27:46.471175",
     "exception": false,
     "start_time": "2025-01-23T09:27:46.451771",
     "status": "completed"
    },
    "tags": []
   },
   "outputs": [],
   "source": [
    "sample_submission.to_csv(\"submission.csv\", index=False)"
   ]
  }
 ],
 "metadata": {
  "kaggle": {
   "accelerator": "none",
   "dataSources": [
    {
     "databundleVersionId": 869809,
     "sourceId": 17777,
     "sourceType": "competition"
    }
   ],
   "dockerImageVersionId": 30839,
   "isGpuEnabled": false,
   "isInternetEnabled": true,
   "language": "python",
   "sourceType": "notebook"
  },
  "kernelspec": {
   "display_name": "Python 3",
   "language": "python",
   "name": "python3"
  },
  "language_info": {
   "codemirror_mode": {
    "name": "ipython",
    "version": 3
   },
   "file_extension": ".py",
   "mimetype": "text/x-python",
   "name": "python",
   "nbconvert_exporter": "python",
   "pygments_lexer": "ipython3",
   "version": "3.10.12"
  },
  "papermill": {
   "default_parameters": {},
   "duration": 6.933242,
   "end_time": "2025-01-23T09:27:47.196558",
   "environment_variables": {},
   "exception": null,
   "input_path": "__notebook__.ipynb",
   "output_path": "__notebook__.ipynb",
   "parameters": {},
   "start_time": "2025-01-23T09:27:40.263316",
   "version": "2.6.0"
  }
 },
 "nbformat": 4,
 "nbformat_minor": 5
}
